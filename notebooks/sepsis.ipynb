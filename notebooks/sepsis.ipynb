{
 "cells": [
  {
   "cell_type": "markdown",
   "metadata": {},
   "source": [
    "# Plot example data for a single patient"
   ]
  },
  {
   "cell_type": "code",
   "execution_count": null,
   "metadata": {
    "collapsed": true
   },
   "outputs": [],
   "source": [
    "# Import libraries\n",
    "import numpy as np\n",
    "import pandas as pd\n",
    "import matplotlib.pyplot as plt\n",
    "import psycopg2\n",
    "%matplotlib inline"
   ]
  },
  {
   "cell_type": "code",
   "execution_count": null,
   "metadata": {
    "collapsed": false
   },
   "outputs": [],
   "source": [
    "# Config\n",
    "sqluser = 'alistairewj'\n",
    "dbname = 'mimic'\n",
    "schema_name = 'public,mimiciii'\n",
    "\n",
    "# append the search path to the beginning of each query\n",
    "query_schema = 'set search_path to ' + schema_name + ';'"
   ]
  },
  {
   "cell_type": "code",
   "execution_count": null,
   "metadata": {
    "collapsed": false
   },
   "outputs": [],
   "source": [
    "# Connect to MIMIC\n",
    "con = psycopg2.connect(dbname=dbname, user=sqluser)"
   ]
  },
  {
   "cell_type": "code",
   "execution_count": null,
   "metadata": {
    "collapsed": false
   },
   "outputs": [],
   "source": [
    "# Load angus\n",
    "query = query_schema + \"\"\"\n",
    "-- get first icu stay for adult patients\n",
    "with t1 as \n",
    "(\n",
    "select ie.icustay_id, ie.hadm_id, ie.intime, ie.outtime\n",
    ", ROW_NUMBER() over (partition by ie.subject_id order by ie.intime) as icustay_num\n",
    "from icustays ie\n",
    "inner join admissions adm\n",
    "on ie.hadm_id = adm.hadm_id\n",
    "-- adult patient\n",
    "inner join patients pat\n",
    "on ie.subject_id = pat.subject_id\n",
    "and ie.intime > pat.dob + interval '1' year\n",
    ")\n",
    "SELECT t1.hadm_id\n",
    ", si.charttime as first_antibiotic_time\n",
    ", si.positiveculture as positive_culture\n",
    ", ms.sepsis as martin\n",
    ", ang.angus\n",
    "FROM t1\n",
    "left join micro_first si\n",
    "on t1.hadm_id = si.hadm_id\n",
    "and si.charttime between t1.intime - interval '1' day and t1.intime + interval '1' day\n",
    "left join angus_sepsis ang\n",
    "on t1.hadm_id = ang.hadm_id\n",
    "left join martin_sepsis ms\n",
    "on t1.hadm_id = ms.hadm_id\n",
    "where t1.icustay_num = 1\n",
    "\"\"\"\n",
    "df = pd.read_sql_query(query,con)"
   ]
  },
  {
   "cell_type": "code",
   "execution_count": null,
   "metadata": {
    "collapsed": false
   },
   "outputs": [],
   "source": [
    "print('{:5g} first ICU stay for adults.'.format(\n",
    "        df['hadm_id'].count()))\n",
    "print('{:5g} with suspected sepsis (blood culture within 24 hours of admission)'.format(\n",
    "        df['first_antibiotic_time'].count()))\n",
    "print('{:5g} with a positive blood culture'.format(\n",
    "    df['positive_culture'].sum()))\n",
    "print('{:5g} with Angus'.format(\n",
    "    df['angus'].sum()))\n",
    "print('{:5g} with Angus and suspected sepsis'.format(\n",
    "    ((df['angus']==1)&(~df['first_antibiotic_time'].isnull())).sum()))\n",
    "print('{:5g} with Martin'.format(\n",
    "    df['martin'].sum()))\n",
    "print('{:5g} with Martin and suspected sepsis'.format(\n",
    "    ((df['martin']==1)&(~df['first_antibiotic_time'].isnull())).sum()))"
   ]
  },
  {
   "cell_type": "code",
   "execution_count": null,
   "metadata": {
    "collapsed": false
   },
   "outputs": [],
   "source": [
    "# venn diagram with matplotlib-venn\n",
    "from matplotlib_venn import venn3\n",
    "\n",
    "idx = df['martin']==1\n",
    "set1 = set(df.loc[idx,'hadm_id'])\n",
    "idx = df['angus']==1\n",
    "set2 = set(df.loc[idx,'hadm_id'])\n",
    "idx = ~df['first_antibiotic_time'].isnull()\n",
    "set3 = set(df.loc[idx,'hadm_id'])\n",
    "\n",
    "plt.figure(figsize=[12,12])\n",
    "plt.rcParams.update({'font.size': 14})\n",
    "venn3([set1, set2, set3], ('Martin criteria', 'Angus criteria', 'Suspected of infection'))\n",
    "plt.show()"
   ]
  },
  {
   "cell_type": "code",
   "execution_count": null,
   "metadata": {
    "collapsed": true
   },
   "outputs": [],
   "source": [
    "con.close()"
   ]
  }
 ],
 "metadata": {
  "kernelspec": {
   "display_name": "Python 2",
   "language": "python",
   "name": "python2"
  },
  "language_info": {
   "codemirror_mode": {
    "name": "ipython",
    "version": 2
   },
   "file_extension": ".py",
   "mimetype": "text/x-python",
   "name": "python",
   "nbconvert_exporter": "python",
   "pygments_lexer": "ipython2",
   "version": "2.7.12"
  }
 },
 "nbformat": 4,
 "nbformat_minor": 0
}
