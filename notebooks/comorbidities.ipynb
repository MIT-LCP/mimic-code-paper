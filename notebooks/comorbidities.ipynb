{
 "cells": [
  {
   "cell_type": "markdown",
   "metadata": {},
   "source": [
    "# Plot example data for a single patient"
   ]
  },
  {
   "cell_type": "code",
   "execution_count": null,
   "metadata": {
    "collapsed": true
   },
   "outputs": [],
   "source": [
    "# Import libraries\n",
    "import numpy as np\n",
    "import pandas as pd\n",
    "import matplotlib.pyplot as plt\n",
    "import matplotlib.cm as cm\n",
    "import psycopg2\n",
    "%matplotlib inline"
   ]
  },
  {
   "cell_type": "code",
   "execution_count": null,
   "metadata": {
    "collapsed": false
   },
   "outputs": [],
   "source": [
    "# Config\n",
    "sqluser = 'alistairewj'\n",
    "dbname = 'mimic'\n",
    "schema_name = 'public,mimiciii'\n",
    "\n",
    "# append the search path to the beginning of each query\n",
    "query_schema = 'set search_path to ' + schema_name + ';'"
   ]
  },
  {
   "cell_type": "code",
   "execution_count": null,
   "metadata": {
    "collapsed": false
   },
   "outputs": [],
   "source": [
    "# Connect to MIMIC\n",
    "con = psycopg2.connect(dbname=dbname, user=sqluser)"
   ]
  },
  {
   "cell_type": "code",
   "execution_count": null,
   "metadata": {
    "collapsed": false
   },
   "outputs": [],
   "source": [
    "# Load elixhauser ahrq\n",
    "query = query_schema + \"\"\"\n",
    "-- get first icu stay for adult patients\n",
    "with t1 as \n",
    "(\n",
    "select ie.icustay_id, ie.hadm_id, ie.intime, ie.outtime\n",
    ", ROW_NUMBER() over (partition by ie.subject_id order by ie.intime) as icustay_num\n",
    "from icustays ie\n",
    "inner join admissions adm\n",
    "on ie.hadm_id = adm.hadm_id\n",
    "-- adult patient\n",
    "inner join patients pat\n",
    "on ie.subject_id = pat.subject_id\n",
    "and ie.intime > pat.dob + interval '1' year\n",
    ")\n",
    "SELECT t1.icustay_id, a.*\n",
    "FROM t1\n",
    "left join elixhauser_ahrq a\n",
    "on t1.hadm_id = a.hadm_id\n",
    "where t1.icustay_num = 1\n",
    "\"\"\"\n",
    "ahrq = pd.read_sql_query(query,con)\n",
    "\n",
    "# Load elixhauser ahrq no drg\n",
    "query = query_schema + \"\"\"\n",
    "-- get first icu stay for adult patients\n",
    "with t1 as \n",
    "(\n",
    "select ie.icustay_id, ie.hadm_id, ie.intime, ie.outtime\n",
    ", ROW_NUMBER() over (partition by ie.subject_id order by ie.intime) as icustay_num\n",
    "from icustays ie\n",
    "inner join admissions adm\n",
    "on ie.hadm_id = adm.hadm_id\n",
    "-- adult patient\n",
    "inner join patients pat\n",
    "on ie.subject_id = pat.subject_id\n",
    "and ie.intime > pat.dob + interval '1' year\n",
    ")\n",
    "SELECT t1.icustay_id, a.*\n",
    "FROM t1\n",
    "left join elixhauser_ahrq_nodrg a\n",
    "on t1.hadm_id = a.hadm_id\n",
    "where t1.icustay_num = 1\n",
    "\"\"\"\n",
    "ahrq_nodrg = pd.read_sql_query(query,con)\n",
    "\n",
    "\n",
    "# Load elixhauser quan\n",
    "query = query_schema + \"\"\"\n",
    "-- get first icu stay for adult patients\n",
    "with t1 as \n",
    "(\n",
    "select ie.icustay_id, ie.hadm_id, ie.intime, ie.outtime\n",
    ", ROW_NUMBER() over (partition by ie.subject_id order by ie.intime) as icustay_num\n",
    "from icustays ie\n",
    "inner join admissions adm\n",
    "on ie.hadm_id = adm.hadm_id\n",
    "-- adult patient\n",
    "inner join patients pat\n",
    "on ie.subject_id = pat.subject_id\n",
    "and ie.intime > pat.dob + interval '1' year\n",
    ")\n",
    "SELECT t1.icustay_id, a.*\n",
    "FROM t1\n",
    "left join elixhauser_quan a\n",
    "on t1.hadm_id = a.hadm_id\n",
    "where t1.icustay_num = 1\n",
    "\"\"\"\n",
    "quan = pd.read_sql_query(query,con)"
   ]
  },
  {
   "cell_type": "code",
   "execution_count": null,
   "metadata": {
    "collapsed": true
   },
   "outputs": [],
   "source": [
    "con.close()"
   ]
  },
  {
   "cell_type": "code",
   "execution_count": null,
   "metadata": {
    "collapsed": false
   },
   "outputs": [],
   "source": [
    "# combine all conditions into a single dataframe\n",
    "columns = [x for x in ahrq.columns if x not in ['subject_id','hadm_id','icustay_id']]\n",
    "df = pd.concat([ahrq.sum(),ahrq_nodrg.sum(),quan.sum()],axis=1)#, quan.\n",
    "df.drop(['subject_id','hadm_id','icustay_id'],axis=0,inplace=True)\n",
    "df.columns = ['ahrq','ahrq_nodrg','quan']\n",
    "df.reset_index(inplace=True)\n",
    "df = pd.melt(df,id_vars='index')\n",
    "df.head()"
   ]
  },
  {
   "cell_type": "code",
   "execution_count": null,
   "metadata": {
    "collapsed": false
   },
   "outputs": [],
   "source": [
    "# define a dictionary to pretty up the legend\n",
    "prettyLabel = {'ahrq': 'AHRQ',\n",
    "               'ahrq_nodrg': 'AHRQ (No DRG filtering)',\n",
    "               'quan': 'Quan et al.'}"
   ]
  },
  {
   "cell_type": "code",
   "execution_count": null,
   "metadata": {
    "collapsed": false,
    "scrolled": false
   },
   "outputs": [],
   "source": [
    "# Create a bar chart using the melted/\"unpivoted\" dataframe from above\n",
    "# More info on how to have multi-category bar charts: \n",
    "#   http://emptypipes.org/2013/11/09/matplotlib-multicategory-barchart/\n",
    "# Hatching examples (the patterns on each bar):\n",
    "#   http://matplotlib.org/examples/pylab_examples/hatch_demo.html\n",
    "N = df.shape[0]\n",
    "\n",
    "fig = plt.figure(figsize=[10,16])\n",
    "ax = fig.add_subplot(111)\n",
    "space = 0.3\n",
    "\n",
    "conditions = np.unique(df['index'].values)\n",
    "categories = np.unique(df['variable'].values)\n",
    "\n",
    "n = len(conditions)\n",
    "\n",
    "width = (1 - space) / (len(categories))\n",
    "\n",
    "hatch={'quan': '//', 'ahrq': '\\\\', 'ahrq_nodrg': ''}\n",
    "for i, c in enumerate(categories):\n",
    "    val = df.loc[df['variable'] == c,'value'].astype(float) / N * 100.0\n",
    "    pos = [j - (1 - space) / 2. + i * width for j in range(1,len(conditions)+1)]\n",
    "    ax.barh(pos, val, height=width, label=c, hatch=hatch[c],\n",
    "       color=cm.Accent(float(i) / len(categories)))\n",
    "    \n",
    "ax.set_yticks([x+1 for x in range(len(conditions))])\n",
    "ax.set_yticklabels(conditions)\n",
    "\n",
    "handles, labels = ax.get_legend_handles_labels()\n",
    "ax.legend(handles[::-1], [prettyLabel[x] for x in labels[::-1]], loc='upper right')\n",
    "plt.grid()\n",
    "\n",
    "plt.xlabel('Percent of adult hospital admissions with comorbidity',fontsize=24)\n",
    "\n",
    "# pretty up the plot\n",
    "ax.spines[\"top\"].set_visible(False)    \n",
    "ax.spines[\"bottom\"].set_visible(True)    \n",
    "ax.spines[\"right\"].set_visible(False)    \n",
    "ax.spines[\"left\"].set_visible(True)  \n",
    "ax.get_xaxis().tick_bottom()    \n",
    "ax.get_yaxis().tick_left()   \n",
    "ax.set_ylim([0,31])\n",
    "plt.rcParams.update({'font.size': 22})\n",
    "\n",
    "plt.show()\n",
    "fig.savefig('comorbidity.png', bbox_inches='tight')"
   ]
  }
 ],
 "metadata": {
  "kernelspec": {
   "display_name": "Python 2",
   "language": "python",
   "name": "python2"
  },
  "language_info": {
   "codemirror_mode": {
    "name": "ipython",
    "version": 2
   },
   "file_extension": ".py",
   "mimetype": "text/x-python",
   "name": "python",
   "nbconvert_exporter": "python",
   "pygments_lexer": "ipython2",
   "version": "2.7.12"
  }
 },
 "nbformat": 4,
 "nbformat_minor": 0
}
